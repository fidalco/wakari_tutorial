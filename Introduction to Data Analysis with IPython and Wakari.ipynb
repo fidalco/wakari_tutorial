{
 "metadata": {
  "name": ""
 },
 "nbformat": 3,
 "nbformat_minor": 0,
 "worksheets": [
  {
   "cells": [
    {
     "cell_type": "markdown",
     "metadata": {
      "slideshow": {
       "slide_type": "slide"
      }
     },
     "source": [
      "Introduction to Data Analysis with IPython and Wakari\n",
      "=====================================================\n",
      "\n",
      "<center>\n",
      "[Ian Stokes-Rees](http://about.me/ijstokes),\n",
      "[@ijstokes](http://twitter.com/ijstokes) \n",
      "[![View Ian Stokes-Rees's LinkedIn profile](http://www.linkedin.com/img/webpromo/btn_in_20x15.png)](http://www.linkedin.com/in/ijstokes)\n",
      "[PyData Boston](http://pydata.org/bos2013), July 2013\n",
      "\n",
      "<p><a href=http://continuum.io><img style=\"display: block;\n",
      "    margin-left: auto;\n",
      "    margin-right: auto\" src=https://ijstokes-public.s3.amazonaws.com/img/continuum-logo-color.png></a>\n",
      "</p>\n",
      "\n",
      "<small>\n",
      "<a rel=\"license\" href=\"http://creativecommons.org/licenses/by-sa/3.0/deed.en_US\"><img alt=\"Creative Commons License\" style=\"border-width:0\" src=\"http://i.creativecommons.org/l/by-sa/3.0/88x31.png\" /></a><br />Introduction to Data Analysis with IPython and Wakari <br>\n",
      "by <a xmlns:cc=\"http://creativecommons.org/ns#\" href=\"http://about.me/ijstokes\" property=\"cc:attributionName\" rel=\"cc:attributionURL\">Ian Stokes-Rees</a> is licensed under a <br>\n",
      "<a rel=\"license\" href=\"http://creativecommons.org/licenses/by-sa/3.0/deed.en_US\">Creative Commons Attribution-ShareAlike 3.0 Unported License</a>.<br />\n",
      "Based on a work at <a xmlns:dct=\"http://purl.org/dc/terms/\" href=\"https://github.com/ijstokes/wakari_tutorial\" rel=\"dct:source\">https://github.com/ijstokes/wakari_tutorial</a>.\n",
      "</small>\n",
      "</center>\n",
      "\n"
     ]
    },
    {
     "cell_type": "markdown",
     "metadata": {
      "slideshow": {
       "slide_type": "slide"
      }
     },
     "source": [
      "Outline\n",
      "-------\n",
      "* Understand [IPython](http://ipython.org/), [IPython Notebook](http://ipython.org/notebook.html), and [Wakari](http://wakari.io)\n",
      "* Basic data analysis with IPython\n",
      "* Data visualization\n",
      "* Publishing results \n",
      "* Basic parallel computing with [IPython Parallel](http://ipython.org/ipython-doc/dev/parallel/) _(time permitting)_"
     ]
    },
    {
     "cell_type": "markdown",
     "metadata": {
      "slideshow": {
       "slide_type": "slide"
      }
     },
     "source": [
      "A Note About Wakari\n",
      "-------------------\n",
      "* Freemium web-based data analytics service\n",
      "* Platform for collaborative data intensive analytics, visualization, and publishing\n",
      "* Combines Continuum's Anaconda Python distribution and IPython Notebook\n",
      "* This tutorial will focus on \"hosted\" IPython Notebook service\n",
      "* Just like IPython makes Python easier to use interactively on your computer, Wakari makes Python-centric analytics easier to do through your browser"
     ]
    },
    {
     "cell_type": "markdown",
     "metadata": {
      "slideshow": {
       "slide_type": "slide"
      }
     },
     "source": [
      "First Steps\n",
      "-----------\n",
      "1. Create a Wakari account at [http://wakari.io](http://wakari.io) (will need to confirm email within 24 hours)\n",
      "2. Start a bash terminal in Wakari\n",
      "3. `git clone https://github.com/ijstokes/wakari_tutorial.git`\n",
      "4. Refresh file manager (left window)\n",
      "5. Double click on `wakari_tutorial` directory\n",
      "6. Click on IPython Notebook file `Introduction to Data Analysis with IPython and Wakari.ipynb`\n"
     ]
    },
    {
     "cell_type": "markdown",
     "metadata": {
      "slideshow": {
       "slide_type": "slide"
      }
     },
     "source": [
      "7. Follow along and execute commands with `SHIFT-ENTER` in each cell.\n",
      "8. If you are in a classroom setting, introduce yourself to the person on either side.  Tell them your name and your favorite Monty Python movie.  These two people will be your Python programming buddies for the next hour, so be prepared to help each other out.\n",
      "\n",
      "<p><a href=http://continuum.io><img style=\"display: block;\n",
      "    margin-left: auto;\n",
      "    margin-right: auto\" src=https://ijstokes-public.s3.amazonaws.com/img/monty_python_knights.png></a>\n",
      "</p>"
     ]
    },
    {
     "cell_type": "markdown",
     "metadata": {
      "slideshow": {
       "slide_type": "slide"
      }
     },
     "source": [
      "Python Statements and Notebook Cells\n",
      "------------------------------------"
     ]
    },
    {
     "cell_type": "markdown",
     "metadata": {
      "slideshow": {
       "slide_type": "-"
      }
     },
     "source": [
      "Each cell can contain one or more Python statements"
     ]
    },
    {
     "cell_type": "code",
     "collapsed": false,
     "input": [
      "print \"This is a cell\""
     ],
     "language": "python",
     "metadata": {
      "slideshow": {
       "slide_type": "fragment"
      }
     },
     "outputs": []
    },
    {
     "cell_type": "code",
     "collapsed": false,
     "input": [
      "x = 4\n",
      "y = 7\n",
      "result = x + y\n",
      "print result"
     ],
     "language": "python",
     "metadata": {
      "slideshow": {
       "slide_type": "fragment"
      }
     },
     "outputs": []
    },
    {
     "cell_type": "markdown",
     "metadata": {
      "slideshow": {
       "slide_type": "slide"
      }
     },
     "source": [
      "Practice: Cells and Kernels\n",
      "---------------------------"
     ]
    },
    {
     "cell_type": "code",
     "collapsed": false,
     "input": [
      "import time\n",
      "time.asctime()"
     ],
     "language": "python",
     "metadata": {
      "slideshow": {
       "slide_type": "fragment"
      }
     },
     "outputs": []
    },
    {
     "cell_type": "code",
     "collapsed": false,
     "input": [
      "print \"Seconds since the epoch:\", time.time()\n",
      "print \"Years since the epoch (approx): %.2f\" % (time.time()/(365 * 24 * 60 * 60))\n",
      "print \"Previously computed value result: \", result"
     ],
     "language": "python",
     "metadata": {
      "slideshow": {
       "slide_type": "fragment"
      }
     },
     "outputs": []
    },
    {
     "cell_type": "markdown",
     "metadata": {
      "slideshow": {
       "slide_type": "slide"
      }
     },
     "source": [
      "1. And cells can be evaluated multiple times -- try re-executing the above `time` cells and watch the time change\n",
      " `\n",
      "2. A running notebook (like this one, if you've opened it in IPython Notebook\") has a Python kernel associated with it, and executing a cell is like running the statements in that cell inside an interactive IPython interpreter.\n",
      "\n",
      "3. You can re-order cells and then re-execute them, but re-ordering does not re-run all other cells.  For example, try moving the above \"seconds since the epoch\" cell up near the **First Steps** section using the \u2b06 button in the toolbar, then re-run it.\n",
      "\n",
      "4. Notice that the `time` module and the `result` variable are still in scope."
     ]
    },
    {
     "cell_type": "markdown",
     "metadata": {
      "slideshow": {
       "slide_type": "slide"
      }
     },
     "source": [
      "5. When you save your Notebook (with the \ud83d\udcbe  button in the toobar) all your input and output cells are saved as well.  Try it now, then select _File\u2192Close and Halt_ -- you will get a warning message that the kernel has stopped.\n",
      "\n",
      "6. Close the notebook by clicking the \u2297 in the tab.\n",
      "\n",
      "7. Re-open the notebook by double clicking on it in the left sidebar menu.\n",
      "\n",
      "8. Notice the output has been saved -- this hasn't re-executed.  Clear the output by selecting _Cell\u2192All Output\u2192Clear_.\n",
      "\n",
      "9. Now try re-executing all the cells in the notebook by selecting _Cell\u2192Run All_.\n",
      "\n",
      "10. If you moved the `time` cell up before saving, then you'll get an exception when this runs, since `import time` hasn't been called yet.  "
     ]
    },
    {
     "cell_type": "code",
     "collapsed": false,
     "input": [
      "wont_work = 73 + 'some string'"
     ],
     "language": "python",
     "metadata": {
      "slideshow": {
       "slide_type": "fragment"
      }
     },
     "outputs": []
    },
    {
     "cell_type": "markdown",
     "metadata": {
      "slideshow": {
       "slide_type": "slide"
      }
     },
     "source": [
      "11. Notice that _Run All_ will stop if it hits a code cell that throws an exception.  Fix `'some string'` by making it a number, then select _Cell\u2192Run All Below_.\n",
      "\n",
      "12. You can also delete and insert cells.  Select the cell above and then cut it out with the \u2702 menu bar button.  Add a new cell above this one using the \u2912 button.  Try adding some code and executing it.\n",
      "\n",
      "13. You can also copy cells with the copy button (right of the scissors), and paste them with the paste button (clipboard two-right of the scissors).  Try copying the \"time since epoch\" cell."
     ]
    },
    {
     "cell_type": "markdown",
     "metadata": {
      "slideshow": {
       "slide_type": "slide"
      }
     },
     "source": [
      "Non-Code Cells\n",
      "--------------\n",
      "* You can use the tool bar drop-down menu to change a particular cell from _code_ to something that will allow you to enter plain text, HTML, or Markdown.  \n",
      "\n",
      "* This can even include mathematical notation via LaTeX\n",
      "    $$c = \\sqrt{a^2 + b^2}$$\n",
      "\n",
      "* Click on any text cell in this notebook to see examples of this.\n",
      "\n",
      "* [Markdown](http://daringfireball.net/projects/markdown/basics) is a great way to quickly write readable text that can also render to HTML for the web.  Here is a [short tutorial](http://www.markdowntutorial.com/)"
     ]
    },
    {
     "cell_type": "markdown",
     "metadata": {
      "slideshow": {
       "slide_type": "slide"
      }
     },
     "source": [
      "13. The loop below will take a long time to run.  In IPython Notebook we can interrupt the kernel similar to a CTRL-C signal by clicking on the stop button \"\u25a0\" in the menu bar.  Selecting _Kernel\u2192Interrupt_ will do the same thing.  Start the loop running, then after a few seconds stop it with this method.\n",
      "\n",
      "14. It is often necessary to \"start fresh\", and that is done by resetting the Notebook kernel with _Kernel\u2192Reset_.  After you've done this, you'll need to re-execute cells from the _Cells_ menu or by selectively using `SHIFT-ENTER` in cells of interest."
     ]
    },
    {
     "cell_type": "code",
     "collapsed": false,
     "input": [
      "for i in xrange(1000):\n",
      "    print i\n",
      "    time.sleep(0.5)"
     ],
     "language": "python",
     "metadata": {
      "slideshow": {
       "slide_type": "fragment"
      }
     },
     "outputs": []
    },
    {
     "cell_type": "markdown",
     "metadata": {
      "slideshow": {
       "slide_type": "slide"
      }
     },
     "source": [
      "IPython and IPython Notebook\n",
      "----------------------------"
     ]
    },
    {
     "cell_type": "markdown",
     "metadata": {
      "slideshow": {
       "slide_type": "fragment"
      }
     },
     "source": [
      "IPython extends the functionality of the standard python interactive interpreter.\n",
      "\n",
      "\u2047 Should you ever use IPython to run Python programs?\n",
      "\n",
      "\u2047 What are some features of IPython?"
     ]
    },
    {
     "cell_type": "markdown",
     "metadata": {
      "slideshow": {
       "slide_type": "slide"
      }
     },
     "source": [
      "* IPython should only be used interactively, never `ipython myprog.py`.\n",
      "\n",
      "* Extended commands and syntax are only meant for interactive use, not to be added to Python modules.\n",
      "\n",
      "* Many great features:\n",
      "    * tab-completion\n",
      "    * logging of commands (and output)\n",
      "    * file system interaction (`cd ls cp`   etc.)\n",
      "    * extensions\n",
      "    * \"magics\"\n",
      "    * QT console (inline graphics)\n",
      "    * Notebook"
     ]
    },
    {
     "cell_type": "code",
     "collapsed": false,
     "input": [
      "pwd"
     ],
     "language": "python",
     "metadata": {
      "slideshow": {
       "slide_type": "slide"
      }
     },
     "outputs": []
    },
    {
     "cell_type": "code",
     "collapsed": false,
     "input": [
      "ls data"
     ],
     "language": "python",
     "metadata": {
      "slideshow": {
       "slide_type": "fragment"
      }
     },
     "outputs": []
    },
    {
     "cell_type": "code",
     "collapsed": false,
     "input": [
      "# tab completion on attributes and functions with code-insight\n",
      "time.\n",
      "# NOTE: module must be loaded already"
     ],
     "language": "python",
     "metadata": {
      "slideshow": {
       "slide_type": "fragment"
      }
     },
     "outputs": []
    },
    {
     "cell_type": "code",
     "collapsed": false,
     "input": [
      "# Help text\n",
      "time?"
     ],
     "language": "python",
     "metadata": {
      "slideshow": {
       "slide_type": "slide"
      }
     },
     "outputs": []
    },
    {
     "cell_type": "code",
     "collapsed": false,
     "input": [
      "# tab completion on file names\n",
      "fh = open('data/cla"
     ],
     "language": "python",
     "metadata": {
      "slideshow": {
       "slide_type": "fragment"
      }
     },
     "outputs": []
    },
    {
     "cell_type": "code",
     "collapsed": false,
     "input": [
      "ls data/eur"
     ],
     "language": "python",
     "metadata": {
      "slideshow": {
       "slide_type": "fragment"
      }
     },
     "outputs": []
    },
    {
     "cell_type": "code",
     "collapsed": false,
     "input": [
      "%%bash\n",
      "for f in data/*.dat; do\n",
      "    echo -n $f \" \"\n",
      "    cat $f | wc -l\n",
      "done"
     ],
     "language": "python",
     "metadata": {
      "slideshow": {
       "slide_type": "slide"
      }
     },
     "outputs": []
    },
    {
     "cell_type": "code",
     "collapsed": false,
     "input": [
      "%load_ext autosave\n",
      "%autosave 300"
     ],
     "language": "python",
     "metadata": {
      "slideshow": {
       "slide_type": "fragment"
      }
     },
     "outputs": []
    },
    {
     "cell_type": "code",
     "collapsed": false,
     "input": [
      "time?"
     ],
     "language": "python",
     "metadata": {
      "slideshow": {
       "slide_type": "fragment"
      }
     },
     "outputs": []
    },
    {
     "cell_type": "code",
     "collapsed": false,
     "input": [
      "%run power"
     ],
     "language": "python",
     "metadata": {
      "slideshow": {
       "slide_type": "fragment"
      }
     },
     "outputs": []
    },
    {
     "cell_type": "markdown",
     "metadata": {
      "slideshow": {
       "slide_type": "slide"
      }
     },
     "source": [
      "Explore IPython and IPython Notebook\n",
      "------------------------------------\n",
      "\n",
      "* you can run ipython yourself:\n",
      "    * Install it (if you don't have it already):\n",
      "```\n",
      "$ pip install ipython\n",
      "```\n",
      "\n",
      "    * Run it from the command line:\n",
      "```\n",
      "$ ipython\n",
      "```\n",
      "\n",
      "* And if you have ipython then you can start your own ipython notebook:\n",
      "```\n",
      "$ ipython notebook --pylab=inline\n",
      "```\n",
      "\n",
      "* But for now, stick with [Wakari](http://wakari.io)"
     ]
    },
    {
     "cell_type": "markdown",
     "metadata": {
      "slideshow": {
       "slide_type": "slide"
      }
     },
     "source": [
      "1. In a new cell, `import math` and execute it.\n",
      "2. In a new cell, type the following:\n",
      "    * `math.<TAB>`\n",
      "    * `math.cos(<TAB>`\n",
      "3. In a new cell, execute:\n",
      "    * `math.atan?`\n",
      "4. In a new cell, execute:\n",
      "    * `%run weather.py`\n",
      "5. Double click on `weather.py` in the left menubar file browser to open it in a file editor.  Take a look at what it is doing.\n",
      "6. In this notebook, write a small script that opens `data/europe-cities-temp.dat` and prints out each line.\n",
      "    * If that is easy for you, convert the data into a list of tuples, each tuple containing the data on each row, with fields converted to ints or floats if possible.\n",
      "    * If you still have time, change this into a dictionary, with city names as keys, and Lat/Lon converted to floats."
     ]
    },
    {
     "cell_type": "markdown",
     "metadata": {
      "slideshow": {
       "slide_type": "slide"
      }
     },
     "source": [
      "Publishing Your Work\n",
      "--------------------\n",
      "\n",
      "* IPython Notebooks are simply JSON files\n",
      "* Any code and all output (including generated graphics) are embedded in the JSON file\n",
      "* This means you can share your published notebook by email or post it to the web\n",
      "* Does not include and custom code, data files, or other dependencies\n",
      "* Wakari facilitates publishing notebooks\n",
      "* Wakari can also publish _bundles_ that include all files in a directory\n",
      "* And via _conda environments_, Wakari can automatically describe any package dependencies\n",
      "    * If you know virtualenv, imagine this as a manifest of all special packages required for the bundle to work"
     ]
    },
    {
     "cell_type": "markdown",
     "metadata": {
      "slideshow": {
       "slide_type": "slide"
      }
     },
     "source": [
      "Create Your Own Shared Notebook\n",
      "-------------------------------\n",
      "1. Click on _New Notebook_\n",
      "\n",
      "2. This will create a notebook with the name \"_Untitled X_\".  Change the notebook name to \"Weather Analysis\" and save it.\n",
      "\n",
      "3. Make the first cell Markdown and enter a title similar to the one used for this notebook, including a title and your name.\n",
      "\n",
      "4. Add in a code cell with the `autosave` extension loaded and activated.\n",
      "\n",
      "5. Add the following code block and execute it:\n",
      "    \n",
      "6. If you get an error regarding `basemap` then go to the _Terminals_ tab in Wakari and start a _Shell_ terminal then execute (don't inculde the dollar sign):\n",
      "    ```\n",
      "    $ conda install basemap\n",
      "    ```"
     ]
    },
    {
     "cell_type": "code",
     "collapsed": false,
     "input": [
      "from mpl_toolkits.basemap import Basemap\n",
      "import matplotlib.pyplot as plt\n",
      "import numpy as np\n",
      "\n",
      "fig = plt.figure(figsize=(12,12))\n",
      "map = Basemap(projection='merc', lat_0 = 50, lon_0 = 5,\n",
      "    resolution = 'i',\n",
      "    llcrnrlon=-15, llcrnrlat=35,\n",
      "    urcrnrlon=20, urcrnrlat=62)\n",
      "\n",
      "map.drawcoastlines()\n",
      "map.drawcountries()\n",
      "map.fillcontinents(color = 'coral')\n",
      "map.drawmapboundary()\n",
      "\n",
      "plt.show()"
     ],
     "language": "python",
     "metadata": {
      "slideshow": {
       "slide_type": "slide"
      }
     },
     "outputs": []
    },
    {
     "cell_type": "markdown",
     "metadata": {
      "slideshow": {
       "slide_type": "slide"
      }
     },
     "source": [
      "7. Share your notebook by clicking on the `[Share]` button beside it in the left menubar file manager.  Provide a short description.  Do not check \"Share Environment\" or set a password.\n",
      "\n",
      "8. Try sharing your link with one of your tutorial buddies. Make sure you can open and view it in your browser.\n",
      "\n",
      "9. Click on the _code_ link near the top to hide the code in the notebook.  Depending on the notebook content, this is sometimes a more useful and readable view.\n",
      "\n",
      "10. This published notebook view is a static, read-only snapshot of your notebook.  Others can clone your notebook into their own Wakari environment, or they can download the notebook to load in their own IPython Notebook environment.\n",
      "\n",
      "11. Return to your \"live\" notebook and enter the code below after your `import` statements, but before the figure is generated into the existing code cell:"
     ]
    },
    {
     "cell_type": "code",
     "collapsed": false,
     "input": [
      "'Reykjavik   61  (64,45,\"N\")     (21,56,\"W\") 0.9 6.2 3.7 9.8 7.1 12.4    8.8 13.9'\n",
      "regexp = \"\".join(['([^\\t]+)\\t([^\\t]+)\\t\\((\\d+),(\\d+),\"(\\w)\"\\)\\s+\\((\\d+),(\\d+),',\n",
      "         '\"(\\w)\"\\)\\t([^\\t]+)\\t([^\\t]+)\\t([^\\t]+)\\t([^\\t]+)\\t([^\\t]+)\\t([^\\t]+)',\n",
      "         '\\t([^\\t]+)\\t([^\\t]+)\\n'])\n",
      "\n",
      "ndtype=[('city',str),\n",
      "        ('elev', float),\n",
      "        ('lat', float),\n",
      "        ('lats', float),\n",
      "        ('latns', '|S1'),\n",
      "        ('lon', float),\n",
      "        ('lons', float),\n",
      "        ('lonew', '|S1'),\n",
      "        ('apr_min', float),\n",
      "        ('apr_max', float),\n",
      "        ('may_min', float),\n",
      "        ('may_max', float),\n",
      "        ('jun_min', float),\n",
      "        ('jun_max', float),\n",
      "        ('jul_min', float),\n",
      "        ('jul_max', float),\n",
      "]\n",
      "\n",
      "with open('data/europe-cities-temp-mod.dat') as fh:\n",
      "     cities = np.fromregex(fh, regexp, ndtype)\n",
      "\n",
      "print cities.size\n",
      "print cities['jul_max']"
     ],
     "language": "python",
     "metadata": {
      "slideshow": {
       "slide_type": "slide"
      }
     },
     "outputs": []
    },
    {
     "cell_type": "markdown",
     "metadata": {
      "slideshow": {
       "slide_type": "slide"
      }
     },
     "source": [
      "This should print out `17` and a list of values which are the July maximum temperatures for 17 European cities.  If it does not, and you can't see what the problem is, ask your tutorial buddy for debugging help.\n",
      "\n",
      "Finally, add the code below into the code cell just _before_ the `plt.show()` statement."
     ]
    },
    {
     "cell_type": "code",
     "collapsed": false,
     "input": [
      "lat = cities['lat'] + cities['lats']/60\n",
      "lon = cities['lon'] + cities['lons']/60\n",
      "lon = lon*np.where(cities['lonew'] == 'E', 1, -1)\n",
      "x,y = map(lon, lat)\n",
      "map.plot(x, y, 'bo', markersize=30, alpha=0.5)"
     ],
     "language": "python",
     "metadata": {
      "slideshow": {
       "slide_type": "subslide"
      }
     },
     "outputs": []
    },
    {
     "cell_type": "markdown",
     "metadata": {
      "slideshow": {
       "slide_type": "slide"
      }
     },
     "source": [
      "The last few steps are to save the figure as a file in PDF and PNG formats, save your work, and then share the notebook again.  This time we will also share a bundle of all the work, for comparison.\n",
      "\n",
      "1. Add the code below as a new cell at the end of your notebook, and execute it:"
     ]
    },
    {
     "cell_type": "code",
     "collapsed": false,
     "input": [
      "plt.savefig('weather.pdf')\n",
      "plt.savefig('weather.png')\n"
     ],
     "language": "python",
     "metadata": {},
     "outputs": []
    },
    {
     "cell_type": "markdown",
     "metadata": {},
     "source": [
      "2. Save your Notebook.\n",
      "\n",
      "3. Click the `[Share]` button in the Wakari file manager to re-publish your updated notebook.  Check that the link works.\n",
      "\n",
      "4. Click the `Go Back` link in the Wakari file manager to return to your home directory.  Now click once on the `wakari_tutorial` directory to select it.  You can now click the `[Share]` button in the menu bar above the file manager (middle button: box with an arrow going out of it).  As before, do not share your environment."
     ]
    },
    {
     "cell_type": "markdown",
     "metadata": {
      "slideshow": {
       "slide_type": "slide"
      }
     },
     "source": [
      "Further References\n",
      "------------------\n",
      "\n",
      "* [Wakari](http://wakari.io)\n",
      "* [IPython](http://ipython.org/)\n",
      "* [IPython Notebook](http://ipython.org/notebook.html)\n",
      "* IPython Notebook Gallery [1](https://www.wakari.io/gallery/) [2](http://nbviewer.ipython.org/)\n",
      "* [IPython Parallel](http://ipython.org/ipython-doc/dev/parallel/)\n",
      "* [IPython Parallel Tutorial](http://continuum.io/blog/ipcluster-wakari-intro)\n"
     ]
    }
   ],
   "metadata": {}
  }
 ]
}